{
 "cells": [
  {
   "cell_type": "markdown",
   "metadata": {},
   "source": [
    "### Deliverable 1: Preprocessing the Data for a Neural Network"
   ]
  },
  {
   "cell_type": "code",
   "execution_count": 1,
   "metadata": {},
   "outputs": [
    {
     "data": {
      "text/html": [
       "<div>\n",
       "<style scoped>\n",
       "    .dataframe tbody tr th:only-of-type {\n",
       "        vertical-align: middle;\n",
       "    }\n",
       "\n",
       "    .dataframe tbody tr th {\n",
       "        vertical-align: top;\n",
       "    }\n",
       "\n",
       "    .dataframe thead th {\n",
       "        text-align: right;\n",
       "    }\n",
       "</style>\n",
       "<table border=\"1\" class=\"dataframe\">\n",
       "  <thead>\n",
       "    <tr style=\"text-align: right;\">\n",
       "      <th></th>\n",
       "      <th>EIN</th>\n",
       "      <th>NAME</th>\n",
       "      <th>APPLICATION_TYPE</th>\n",
       "      <th>AFFILIATION</th>\n",
       "      <th>CLASSIFICATION</th>\n",
       "      <th>USE_CASE</th>\n",
       "      <th>ORGANIZATION</th>\n",
       "      <th>STATUS</th>\n",
       "      <th>INCOME_AMT</th>\n",
       "      <th>SPECIAL_CONSIDERATIONS</th>\n",
       "      <th>ASK_AMT</th>\n",
       "      <th>IS_SUCCESSFUL</th>\n",
       "    </tr>\n",
       "  </thead>\n",
       "  <tbody>\n",
       "    <tr>\n",
       "      <th>0</th>\n",
       "      <td>10520599</td>\n",
       "      <td>BLUE KNIGHTS MOTORCYCLE CLUB</td>\n",
       "      <td>T10</td>\n",
       "      <td>Independent</td>\n",
       "      <td>C1000</td>\n",
       "      <td>ProductDev</td>\n",
       "      <td>Association</td>\n",
       "      <td>1</td>\n",
       "      <td>0</td>\n",
       "      <td>N</td>\n",
       "      <td>5000</td>\n",
       "      <td>1</td>\n",
       "    </tr>\n",
       "    <tr>\n",
       "      <th>1</th>\n",
       "      <td>10531628</td>\n",
       "      <td>AMERICAN CHESAPEAKE CLUB CHARITABLE TR</td>\n",
       "      <td>T3</td>\n",
       "      <td>Independent</td>\n",
       "      <td>C2000</td>\n",
       "      <td>Preservation</td>\n",
       "      <td>Co-operative</td>\n",
       "      <td>1</td>\n",
       "      <td>1-9999</td>\n",
       "      <td>N</td>\n",
       "      <td>108590</td>\n",
       "      <td>1</td>\n",
       "    </tr>\n",
       "    <tr>\n",
       "      <th>2</th>\n",
       "      <td>10547893</td>\n",
       "      <td>ST CLOUD PROFESSIONAL FIREFIGHTERS</td>\n",
       "      <td>T5</td>\n",
       "      <td>CompanySponsored</td>\n",
       "      <td>C3000</td>\n",
       "      <td>ProductDev</td>\n",
       "      <td>Association</td>\n",
       "      <td>1</td>\n",
       "      <td>0</td>\n",
       "      <td>N</td>\n",
       "      <td>5000</td>\n",
       "      <td>0</td>\n",
       "    </tr>\n",
       "    <tr>\n",
       "      <th>3</th>\n",
       "      <td>10553066</td>\n",
       "      <td>SOUTHSIDE ATHLETIC ASSOCIATION</td>\n",
       "      <td>T3</td>\n",
       "      <td>CompanySponsored</td>\n",
       "      <td>C2000</td>\n",
       "      <td>Preservation</td>\n",
       "      <td>Trust</td>\n",
       "      <td>1</td>\n",
       "      <td>10000-24999</td>\n",
       "      <td>N</td>\n",
       "      <td>6692</td>\n",
       "      <td>1</td>\n",
       "    </tr>\n",
       "    <tr>\n",
       "      <th>4</th>\n",
       "      <td>10556103</td>\n",
       "      <td>GENETIC RESEARCH INSTITUTE OF THE DESERT</td>\n",
       "      <td>T3</td>\n",
       "      <td>Independent</td>\n",
       "      <td>C1000</td>\n",
       "      <td>Heathcare</td>\n",
       "      <td>Trust</td>\n",
       "      <td>1</td>\n",
       "      <td>100000-499999</td>\n",
       "      <td>N</td>\n",
       "      <td>142590</td>\n",
       "      <td>1</td>\n",
       "    </tr>\n",
       "  </tbody>\n",
       "</table>\n",
       "</div>"
      ],
      "text/plain": [
       "        EIN                                      NAME APPLICATION_TYPE  \\\n",
       "0  10520599              BLUE KNIGHTS MOTORCYCLE CLUB              T10   \n",
       "1  10531628    AMERICAN CHESAPEAKE CLUB CHARITABLE TR               T3   \n",
       "2  10547893        ST CLOUD PROFESSIONAL FIREFIGHTERS               T5   \n",
       "3  10553066            SOUTHSIDE ATHLETIC ASSOCIATION               T3   \n",
       "4  10556103  GENETIC RESEARCH INSTITUTE OF THE DESERT               T3   \n",
       "\n",
       "        AFFILIATION CLASSIFICATION      USE_CASE  ORGANIZATION  STATUS  \\\n",
       "0       Independent          C1000    ProductDev   Association       1   \n",
       "1       Independent          C2000  Preservation  Co-operative       1   \n",
       "2  CompanySponsored          C3000    ProductDev   Association       1   \n",
       "3  CompanySponsored          C2000  Preservation         Trust       1   \n",
       "4       Independent          C1000     Heathcare         Trust       1   \n",
       "\n",
       "      INCOME_AMT SPECIAL_CONSIDERATIONS  ASK_AMT  IS_SUCCESSFUL  \n",
       "0              0                      N     5000              1  \n",
       "1         1-9999                      N   108590              1  \n",
       "2              0                      N     5000              0  \n",
       "3    10000-24999                      N     6692              1  \n",
       "4  100000-499999                      N   142590              1  "
      ]
     },
     "execution_count": 1,
     "metadata": {},
     "output_type": "execute_result"
    }
   ],
   "source": [
    "# Import our dependencies\n",
    "from sklearn.model_selection import train_test_split\n",
    "from sklearn.preprocessing import StandardScaler,OneHotEncoder\n",
    "import pandas as pd\n",
    "import tensorflow as tf\n",
    "\n",
    "#  Import and read the charity_data.csv.\n",
    "import pandas as pd \n",
    "application_df = pd.read_csv(\"charity_data.csv\")\n",
    "application_df.head()"
   ]
  },
  {
   "cell_type": "code",
   "execution_count": 2,
   "metadata": {},
   "outputs": [
    {
     "data": {
      "text/plain": [
       "Index(['EIN', 'NAME', 'APPLICATION_TYPE', 'AFFILIATION', 'CLASSIFICATION',\n",
       "       'USE_CASE', 'ORGANIZATION', 'STATUS', 'INCOME_AMT',\n",
       "       'SPECIAL_CONSIDERATIONS', 'ASK_AMT', 'IS_SUCCESSFUL'],\n",
       "      dtype='object')"
      ]
     },
     "execution_count": 2,
     "metadata": {},
     "output_type": "execute_result"
    }
   ],
   "source": [
    "application_df.columns"
   ]
  },
  {
   "cell_type": "code",
   "execution_count": 3,
   "metadata": {},
   "outputs": [
    {
     "data": {
      "text/plain": [
       "PARENT BOOSTER USA INC                                                  1260\n",
       "TOPS CLUB INC                                                            765\n",
       "UNITED STATES BOWLING CONGRESS INC                                       700\n",
       "WASHINGTON STATE UNIVERSITY                                              492\n",
       "AMATEUR ATHLETIC UNION OF THE UNITED STATES INC                          408\n",
       "                                                                        ... \n",
       "ST LOUIS SLAM WOMENS FOOTBALL                                              1\n",
       "AIESEC ALUMNI IBEROAMERICA CORP                                            1\n",
       "WEALLBLEEDRED ORG INC                                                      1\n",
       "AMERICAN SOCIETY FOR STANDARDS IN MEDIUMSHIP & PSYCHICAL INVESTIGATI       1\n",
       "WATERHOUSE CHARITABLE TR                                                   1\n",
       "Name: NAME, Length: 19568, dtype: int64"
      ]
     },
     "execution_count": 3,
     "metadata": {},
     "output_type": "execute_result"
    }
   ],
   "source": [
    "application_df[\"NAME\"].value_counts()"
   ]
  },
  {
   "cell_type": "code",
   "execution_count": 4,
   "metadata": {},
   "outputs": [
    {
     "data": {
      "text/plain": [
       "1    34294\n",
       "0        5\n",
       "Name: STATUS, dtype: int64"
      ]
     },
     "execution_count": 4,
     "metadata": {},
     "output_type": "execute_result"
    }
   ],
   "source": [
    "application_df[\"STATUS\"].value_counts()"
   ]
  },
  {
   "cell_type": "code",
   "execution_count": 5,
   "metadata": {},
   "outputs": [
    {
     "data": {
      "text/plain": [
       "1    34294\n",
       "Name: STATUS, dtype: int64"
      ]
     },
     "execution_count": 5,
     "metadata": {},
     "output_type": "execute_result"
    }
   ],
   "source": [
    "application_df = application_df[application_df[\"STATUS\"]==1]\n",
    "application_df[\"STATUS\"].value_counts()"
   ]
  },
  {
   "cell_type": "code",
   "execution_count": 6,
   "metadata": {},
   "outputs": [
    {
     "name": "stderr",
     "output_type": "stream",
     "text": [
      "C:\\Users\\chernandez\\Anaconda3\\envs\\PythonData\\lib\\site-packages\\ipykernel_launcher.py:2: FutureWarning: In a future version of pandas all arguments of DataFrame.drop except for the argument 'labels' will be keyword-only\n",
      "  \n"
     ]
    }
   ],
   "source": [
    "# Drop the non-beneficial ID columns, 'EIN' and 'NAME'.\n",
    "application_df = application_df.drop([\"EIN\", \"STATUS\", \"APPLICATION_TYPE\"], 1) "
   ]
  },
  {
   "cell_type": "code",
   "execution_count": 7,
   "metadata": {},
   "outputs": [
    {
     "name": "stdout",
     "output_type": "stream",
     "text": [
      "(34294, 9)\n"
     ]
    },
    {
     "data": {
      "text/plain": [
       "NAME                      19565\n",
       "AFFILIATION                   6\n",
       "CLASSIFICATION               71\n",
       "USE_CASE                      5\n",
       "ORGANIZATION                  4\n",
       "INCOME_AMT                    9\n",
       "SPECIAL_CONSIDERATIONS        2\n",
       "ASK_AMT                    8747\n",
       "IS_SUCCESSFUL                 2\n",
       "dtype: int64"
      ]
     },
     "execution_count": 7,
     "metadata": {},
     "output_type": "execute_result"
    }
   ],
   "source": [
    "# Determine the number of unique values in each column.\n",
    "print(application_df.shape)\n",
    "application_df.nunique()"
   ]
  },
  {
   "cell_type": "code",
   "execution_count": 8,
   "metadata": {},
   "outputs": [
    {
     "data": {
      "text/plain": [
       "C1000    17323\n",
       "C2000     6073\n",
       "C1200     4837\n",
       "C3000     1918\n",
       "C2100     1882\n",
       "         ...  \n",
       "C4120        1\n",
       "C8210        1\n",
       "C2561        1\n",
       "C4500        1\n",
       "C2150        1\n",
       "Name: CLASSIFICATION, Length: 71, dtype: int64"
      ]
     },
     "execution_count": 8,
     "metadata": {},
     "output_type": "execute_result"
    }
   ],
   "source": [
    "# Look at CLASSIFICATION value counts for binning\n",
    "classification_count = application_df['CLASSIFICATION'].value_counts()\n",
    "classification_count"
   ]
  },
  {
   "cell_type": "code",
   "execution_count": 9,
   "metadata": {},
   "outputs": [
    {
     "data": {
      "text/plain": [
       "<AxesSubplot:ylabel='Density'>"
      ]
     },
     "execution_count": 9,
     "metadata": {},
     "output_type": "execute_result"
    },
    {
     "data": {
      "image/png": "[encoded data removed]",
      "text/plain": [
       "<Figure size 432x288 with 1 Axes>"
      ]
     },
     "metadata": {
      "needs_background": "light"
     },
     "output_type": "display_data"
    }
   ],
   "source": [
    "# Visualize the value counts of CLASSIFICATION\n",
    "classification_count.plot.density()"
   ]
  },
  {
   "cell_type": "code",
   "execution_count": 10,
   "metadata": {},
   "outputs": [
    {
     "data": {
      "text/plain": [
       "C1000    17323\n",
       "C2000     6073\n",
       "C1200     4837\n",
       "Other     2261\n",
       "C3000     1918\n",
       "C2100     1882\n",
       "Name: CLASSIFICATION, dtype: int64"
      ]
     },
     "execution_count": 10,
     "metadata": {},
     "output_type": "execute_result"
    }
   ],
   "source": [
    "# Determine which values to replace if counts are less than ..?\n",
    "replace_class = list(classification_count[classification_count<1000].index)\n",
    "\n",
    "# Replace in dataframe\n",
    "for cls in replace_class:\n",
    "    application_df.CLASSIFICATION = application_df.CLASSIFICATION.replace(cls,\"Other\")\n",
    "    \n",
    "# Check to make sure binning was successful\n",
    "application_df.CLASSIFICATION.value_counts()"
   ]
  },
  {
   "cell_type": "code",
   "execution_count": 11,
   "metadata": {},
   "outputs": [
    {
     "name": "stdout",
     "output_type": "stream",
     "text": [
      "(34294, 9)\n"
     ]
    },
    {
     "data": {
      "text/plain": [
       "NAME                      19565\n",
       "AFFILIATION                   6\n",
       "CLASSIFICATION                6\n",
       "USE_CASE                      5\n",
       "ORGANIZATION                  4\n",
       "INCOME_AMT                    9\n",
       "SPECIAL_CONSIDERATIONS        2\n",
       "ASK_AMT                    8747\n",
       "IS_SUCCESSFUL                 2\n",
       "dtype: int64"
      ]
     },
     "execution_count": 11,
     "metadata": {},
     "output_type": "execute_result"
    }
   ],
   "source": [
    "print(application_df.shape)\n",
    "application_df.nunique()"
   ]
  },
  {
   "cell_type": "code",
   "execution_count": 12,
   "metadata": {},
   "outputs": [
    {
     "data": {
      "text/plain": [
       "PARENT BOOSTER USA INC                             1260\n",
       "TOPS CLUB INC                                       765\n",
       "UNITED STATES BOWLING CONGRESS INC                  700\n",
       "WASHINGTON STATE UNIVERSITY                         492\n",
       "AMATEUR ATHLETIC UNION OF THE UNITED STATES INC     408\n",
       "                                                   ... \n",
       "CHRISTIAN DEAF FELLOWSHIP                             1\n",
       "ST LOUIS SLAM WOMENS FOOTBALL                         1\n",
       "AIESEC ALUMNI IBEROAMERICA CORP                       1\n",
       "WEALLBLEEDRED ORG INC                                 1\n",
       "WATERHOUSE CHARITABLE TR                              1\n",
       "Name: NAME, Length: 19565, dtype: int64"
      ]
     },
     "execution_count": 12,
     "metadata": {},
     "output_type": "execute_result"
    }
   ],
   "source": [
    "# Look at CLASSIFICATION value counts for binning\n",
    "name_count = application_df['NAME'].value_counts()\n",
    "len(name_count)\n",
    "name_count"
   ]
  },
  {
   "cell_type": "code",
   "execution_count": 13,
   "metadata": {},
   "outputs": [
    {
     "data": {
      "text/plain": [
       "<AxesSubplot:ylabel='Density'>"
      ]
     },
     "execution_count": 13,
     "metadata": {},
     "output_type": "execute_result"
    },
    {
     "data": {
      "image/png": "[encoded data removed]",
      "text/plain": [
       "<Figure size 432x288 with 1 Axes>"
      ]
     },
     "metadata": {
      "needs_background": "light"
     },
     "output_type": "display_data"
    }
   ],
   "source": [
    "# Visualize the value counts of CLASSIFICATION\n",
    "name_count.plot.density()"
   ]
  },
  {
   "cell_type": "code",
   "execution_count": 14,
   "metadata": {},
   "outputs": [
    {
     "data": {
      "text/plain": [
       "15"
      ]
     },
     "execution_count": 14,
     "metadata": {},
     "output_type": "execute_result"
    }
   ],
   "source": [
    "# Determine which values to replace if counts are less than ..?\n",
    "replace_name = list(name_count[name_count<200].index)\n",
    "\n",
    "# Replace in dataframe\n",
    "for cls in replace_name:\n",
    "    application_df.NAME = application_df.NAME.replace(cls,\"Other\")\n",
    "    \n",
    "# Check to make sure binning was successful\n",
    "application_df.NAME.value_counts()\n",
    "application_df.NAME.nunique()"
   ]
  },
  {
   "cell_type": "code",
   "execution_count": 15,
   "metadata": {},
   "outputs": [
    {
     "data": {
      "text/plain": [
       "5000        25394\n",
       "63981           3\n",
       "15583           3\n",
       "6725            3\n",
       "10478           3\n",
       "            ...  \n",
       "5371754         1\n",
       "30060           1\n",
       "43091152        1\n",
       "18683           1\n",
       "36500179        1\n",
       "Name: ASK_AMT, Length: 8747, dtype: int64"
      ]
     },
     "execution_count": 15,
     "metadata": {},
     "output_type": "execute_result"
    }
   ],
   "source": [
    "# Look at CLASSIFICATION value counts for binning\n",
    "ask_count = application_df['ASK_AMT'].value_counts()\n",
    "len(ask_count)\n",
    "ask_count"
   ]
  },
  {
   "cell_type": "code",
   "execution_count": 16,
   "metadata": {},
   "outputs": [
    {
     "data": {
      "text/plain": [
       "<AxesSubplot:ylabel='Density'>"
      ]
     },
     "execution_count": 16,
     "metadata": {},
     "output_type": "execute_result"
    },
    {
     "data": {
      "image/png": "[encoded data removed]",
      "text/plain": [
       "<Figure size 432x288 with 1 Axes>"
      ]
     },
     "metadata": {
      "needs_background": "light"
     },
     "output_type": "display_data"
    }
   ],
   "source": [
    "# Visualize the value counts of CLASSIFICATION\n",
    "ask_count.plot.density()"
   ]
  },
  {
   "cell_type": "code",
   "execution_count": 17,
   "metadata": {},
   "outputs": [
    {
     "data": {
      "text/plain": [
       "2"
      ]
     },
     "execution_count": 17,
     "metadata": {},
     "output_type": "execute_result"
    }
   ],
   "source": [
    "# Determine which values to replace if counts are less than ..?\n",
    "replace_ask = list(ask_count[ask_count<500].index)\n",
    "\n",
    "# Replace in dataframe\n",
    "for cls in replace_ask:\n",
    "    application_df.ASK_AMT = application_df.ASK_AMT.replace(cls,\"Other\")\n",
    "    \n",
    "# Check to make sure binning was successful\n",
    "application_df.ASK_AMT.value_counts()\n",
    "application_df.ASK_AMT.nunique()"
   ]
  },
  {
   "cell_type": "code",
   "execution_count": 18,
   "metadata": {},
   "outputs": [
    {
     "data": {
      "text/html": [
       "<div>\n",
       "<style scoped>\n",
       "    .dataframe tbody tr th:only-of-type {\n",
       "        vertical-align: middle;\n",
       "    }\n",
       "\n",
       "    .dataframe tbody tr th {\n",
       "        vertical-align: top;\n",
       "    }\n",
       "\n",
       "    .dataframe thead th {\n",
       "        text-align: right;\n",
       "    }\n",
       "</style>\n",
       "<table border=\"1\" class=\"dataframe\">\n",
       "  <thead>\n",
       "    <tr style=\"text-align: right;\">\n",
       "      <th></th>\n",
       "      <th>NAME</th>\n",
       "      <th>AFFILIATION</th>\n",
       "      <th>CLASSIFICATION</th>\n",
       "      <th>USE_CASE</th>\n",
       "      <th>ORGANIZATION</th>\n",
       "      <th>INCOME_AMT</th>\n",
       "      <th>SPECIAL_CONSIDERATIONS</th>\n",
       "      <th>ASK_AMT</th>\n",
       "      <th>IS_SUCCESSFUL</th>\n",
       "    </tr>\n",
       "  </thead>\n",
       "  <tbody>\n",
       "    <tr>\n",
       "      <th>0</th>\n",
       "      <td>Other</td>\n",
       "      <td>Independent</td>\n",
       "      <td>C1000</td>\n",
       "      <td>ProductDev</td>\n",
       "      <td>Association</td>\n",
       "      <td>0</td>\n",
       "      <td>N</td>\n",
       "      <td>5000</td>\n",
       "      <td>1</td>\n",
       "    </tr>\n",
       "    <tr>\n",
       "      <th>1</th>\n",
       "      <td>Other</td>\n",
       "      <td>Independent</td>\n",
       "      <td>C2000</td>\n",
       "      <td>Preservation</td>\n",
       "      <td>Co-operative</td>\n",
       "      <td>1-9999</td>\n",
       "      <td>N</td>\n",
       "      <td>Other</td>\n",
       "      <td>1</td>\n",
       "    </tr>\n",
       "    <tr>\n",
       "      <th>2</th>\n",
       "      <td>Other</td>\n",
       "      <td>CompanySponsored</td>\n",
       "      <td>C3000</td>\n",
       "      <td>ProductDev</td>\n",
       "      <td>Association</td>\n",
       "      <td>0</td>\n",
       "      <td>N</td>\n",
       "      <td>5000</td>\n",
       "      <td>0</td>\n",
       "    </tr>\n",
       "    <tr>\n",
       "      <th>3</th>\n",
       "      <td>Other</td>\n",
       "      <td>CompanySponsored</td>\n",
       "      <td>C2000</td>\n",
       "      <td>Preservation</td>\n",
       "      <td>Trust</td>\n",
       "      <td>10000-24999</td>\n",
       "      <td>N</td>\n",
       "      <td>Other</td>\n",
       "      <td>1</td>\n",
       "    </tr>\n",
       "    <tr>\n",
       "      <th>4</th>\n",
       "      <td>Other</td>\n",
       "      <td>Independent</td>\n",
       "      <td>C1000</td>\n",
       "      <td>Heathcare</td>\n",
       "      <td>Trust</td>\n",
       "      <td>100000-499999</td>\n",
       "      <td>N</td>\n",
       "      <td>Other</td>\n",
       "      <td>1</td>\n",
       "    </tr>\n",
       "    <tr>\n",
       "      <th>...</th>\n",
       "      <td>...</td>\n",
       "      <td>...</td>\n",
       "      <td>...</td>\n",
       "      <td>...</td>\n",
       "      <td>...</td>\n",
       "      <td>...</td>\n",
       "      <td>...</td>\n",
       "      <td>...</td>\n",
       "      <td>...</td>\n",
       "    </tr>\n",
       "    <tr>\n",
       "      <th>34294</th>\n",
       "      <td>Other</td>\n",
       "      <td>Independent</td>\n",
       "      <td>C1000</td>\n",
       "      <td>ProductDev</td>\n",
       "      <td>Association</td>\n",
       "      <td>0</td>\n",
       "      <td>N</td>\n",
       "      <td>5000</td>\n",
       "      <td>0</td>\n",
       "    </tr>\n",
       "    <tr>\n",
       "      <th>34295</th>\n",
       "      <td>INTERNATIONAL ASSOCIATION OF LIONS CLUBS</td>\n",
       "      <td>CompanySponsored</td>\n",
       "      <td>C3000</td>\n",
       "      <td>ProductDev</td>\n",
       "      <td>Association</td>\n",
       "      <td>0</td>\n",
       "      <td>N</td>\n",
       "      <td>5000</td>\n",
       "      <td>0</td>\n",
       "    </tr>\n",
       "    <tr>\n",
       "      <th>34296</th>\n",
       "      <td>Other</td>\n",
       "      <td>CompanySponsored</td>\n",
       "      <td>C2000</td>\n",
       "      <td>Preservation</td>\n",
       "      <td>Association</td>\n",
       "      <td>0</td>\n",
       "      <td>N</td>\n",
       "      <td>5000</td>\n",
       "      <td>0</td>\n",
       "    </tr>\n",
       "    <tr>\n",
       "      <th>34297</th>\n",
       "      <td>Other</td>\n",
       "      <td>Independent</td>\n",
       "      <td>C3000</td>\n",
       "      <td>ProductDev</td>\n",
       "      <td>Association</td>\n",
       "      <td>0</td>\n",
       "      <td>N</td>\n",
       "      <td>5000</td>\n",
       "      <td>1</td>\n",
       "    </tr>\n",
       "    <tr>\n",
       "      <th>34298</th>\n",
       "      <td>Other</td>\n",
       "      <td>Independent</td>\n",
       "      <td>C1000</td>\n",
       "      <td>Preservation</td>\n",
       "      <td>Co-operative</td>\n",
       "      <td>1M-5M</td>\n",
       "      <td>N</td>\n",
       "      <td>Other</td>\n",
       "      <td>0</td>\n",
       "    </tr>\n",
       "  </tbody>\n",
       "</table>\n",
       "<p>34294 rows × 9 columns</p>\n",
       "</div>"
      ],
      "text/plain": [
       "                                           NAME       AFFILIATION  \\\n",
       "0                                         Other       Independent   \n",
       "1                                         Other       Independent   \n",
       "2                                         Other  CompanySponsored   \n",
       "3                                         Other  CompanySponsored   \n",
       "4                                         Other       Independent   \n",
       "...                                         ...               ...   \n",
       "34294                                     Other       Independent   \n",
       "34295  INTERNATIONAL ASSOCIATION OF LIONS CLUBS  CompanySponsored   \n",
       "34296                                     Other  CompanySponsored   \n",
       "34297                                     Other       Independent   \n",
       "34298                                     Other       Independent   \n",
       "\n",
       "      CLASSIFICATION      USE_CASE  ORGANIZATION     INCOME_AMT  \\\n",
       "0              C1000    ProductDev   Association              0   \n",
       "1              C2000  Preservation  Co-operative         1-9999   \n",
       "2              C3000    ProductDev   Association              0   \n",
       "3              C2000  Preservation         Trust    10000-24999   \n",
       "4              C1000     Heathcare         Trust  100000-499999   \n",
       "...              ...           ...           ...            ...   \n",
       "34294          C1000    ProductDev   Association              0   \n",
       "34295          C3000    ProductDev   Association              0   \n",
       "34296          C2000  Preservation   Association              0   \n",
       "34297          C3000    ProductDev   Association              0   \n",
       "34298          C1000  Preservation  Co-operative          1M-5M   \n",
       "\n",
       "      SPECIAL_CONSIDERATIONS ASK_AMT  IS_SUCCESSFUL  \n",
       "0                          N    5000              1  \n",
       "1                          N   Other              1  \n",
       "2                          N    5000              0  \n",
       "3                          N   Other              1  \n",
       "4                          N   Other              1  \n",
       "...                      ...     ...            ...  \n",
       "34294                      N    5000              0  \n",
       "34295                      N    5000              0  \n",
       "34296                      N    5000              0  \n",
       "34297                      N    5000              1  \n",
       "34298                      N   Other              0  \n",
       "\n",
       "[34294 rows x 9 columns]"
      ]
     },
     "execution_count": 18,
     "metadata": {},
     "output_type": "execute_result"
    }
   ],
   "source": [
    "application_df"
   ]
  },
  {
   "cell_type": "code",
   "execution_count": 19,
   "metadata": {},
   "outputs": [],
   "source": [
    "# Generate our categorical variable lists \n",
    "# application_cat = application_df.dtypes[application_df.dtypes==\"object\"].index.tolist()\n",
    "# application_cat"
   ]
  },
  {
   "cell_type": "code",
   "execution_count": 20,
   "metadata": {},
   "outputs": [
    {
     "data": {
      "text/html": [
       "<div>\n",
       "<style scoped>\n",
       "    .dataframe tbody tr th:only-of-type {\n",
       "        vertical-align: middle;\n",
       "    }\n",
       "\n",
       "    .dataframe tbody tr th {\n",
       "        vertical-align: top;\n",
       "    }\n",
       "\n",
       "    .dataframe thead th {\n",
       "        text-align: right;\n",
       "    }\n",
       "</style>\n",
       "<table border=\"1\" class=\"dataframe\">\n",
       "  <thead>\n",
       "    <tr style=\"text-align: right;\">\n",
       "      <th></th>\n",
       "      <th>NAME_ALPHA PHI SIGMA</th>\n",
       "      <th>NAME_AMATEUR ATHLETIC UNION OF THE UNITED STATES INC</th>\n",
       "      <th>NAME_INTERNATIONAL ASSOCIATION OF LIONS CLUBS</th>\n",
       "      <th>NAME_INTERNATIONAL ASSOCIATION OF SHEET METAL AIR RAIL &amp; TRANSPORTATION</th>\n",
       "      <th>NAME_LITTLE LEAGUE BASEBALL INC</th>\n",
       "      <th>NAME_MOMS CLUB</th>\n",
       "      <th>NAME_MOST WORSHIPFUL STRINGER FREE AND ACCEPTED MASONS</th>\n",
       "      <th>NAME_Other</th>\n",
       "      <th>NAME_PARENT BOOSTER USA INC</th>\n",
       "      <th>NAME_PTA TEXAS CONGRESS</th>\n",
       "      <th>...</th>\n",
       "      <th>INCOME_AMT_100000-499999</th>\n",
       "      <th>INCOME_AMT_10M-50M</th>\n",
       "      <th>INCOME_AMT_1M-5M</th>\n",
       "      <th>INCOME_AMT_25000-99999</th>\n",
       "      <th>INCOME_AMT_50M+</th>\n",
       "      <th>INCOME_AMT_5M-10M</th>\n",
       "      <th>SPECIAL_CONSIDERATIONS_N</th>\n",
       "      <th>SPECIAL_CONSIDERATIONS_Y</th>\n",
       "      <th>ASK_AMT_5000</th>\n",
       "      <th>ASK_AMT_Other</th>\n",
       "    </tr>\n",
       "  </thead>\n",
       "  <tbody>\n",
       "    <tr>\n",
       "      <th>0</th>\n",
       "      <td>0</td>\n",
       "      <td>0</td>\n",
       "      <td>0</td>\n",
       "      <td>0</td>\n",
       "      <td>0</td>\n",
       "      <td>0</td>\n",
       "      <td>0</td>\n",
       "      <td>1</td>\n",
       "      <td>0</td>\n",
       "      <td>0</td>\n",
       "      <td>...</td>\n",
       "      <td>0</td>\n",
       "      <td>0</td>\n",
       "      <td>0</td>\n",
       "      <td>0</td>\n",
       "      <td>0</td>\n",
       "      <td>0</td>\n",
       "      <td>1</td>\n",
       "      <td>0</td>\n",
       "      <td>1</td>\n",
       "      <td>0</td>\n",
       "    </tr>\n",
       "    <tr>\n",
       "      <th>1</th>\n",
       "      <td>0</td>\n",
       "      <td>0</td>\n",
       "      <td>0</td>\n",
       "      <td>0</td>\n",
       "      <td>0</td>\n",
       "      <td>0</td>\n",
       "      <td>0</td>\n",
       "      <td>1</td>\n",
       "      <td>0</td>\n",
       "      <td>0</td>\n",
       "      <td>...</td>\n",
       "      <td>0</td>\n",
       "      <td>0</td>\n",
       "      <td>0</td>\n",
       "      <td>0</td>\n",
       "      <td>0</td>\n",
       "      <td>0</td>\n",
       "      <td>1</td>\n",
       "      <td>0</td>\n",
       "      <td>0</td>\n",
       "      <td>1</td>\n",
       "    </tr>\n",
       "    <tr>\n",
       "      <th>2</th>\n",
       "      <td>0</td>\n",
       "      <td>0</td>\n",
       "      <td>0</td>\n",
       "      <td>0</td>\n",
       "      <td>0</td>\n",
       "      <td>0</td>\n",
       "      <td>0</td>\n",
       "      <td>1</td>\n",
       "      <td>0</td>\n",
       "      <td>0</td>\n",
       "      <td>...</td>\n",
       "      <td>0</td>\n",
       "      <td>0</td>\n",
       "      <td>0</td>\n",
       "      <td>0</td>\n",
       "      <td>0</td>\n",
       "      <td>0</td>\n",
       "      <td>1</td>\n",
       "      <td>0</td>\n",
       "      <td>1</td>\n",
       "      <td>0</td>\n",
       "    </tr>\n",
       "    <tr>\n",
       "      <th>3</th>\n",
       "      <td>0</td>\n",
       "      <td>0</td>\n",
       "      <td>0</td>\n",
       "      <td>0</td>\n",
       "      <td>0</td>\n",
       "      <td>0</td>\n",
       "      <td>0</td>\n",
       "      <td>1</td>\n",
       "      <td>0</td>\n",
       "      <td>0</td>\n",
       "      <td>...</td>\n",
       "      <td>0</td>\n",
       "      <td>0</td>\n",
       "      <td>0</td>\n",
       "      <td>0</td>\n",
       "      <td>0</td>\n",
       "      <td>0</td>\n",
       "      <td>1</td>\n",
       "      <td>0</td>\n",
       "      <td>0</td>\n",
       "      <td>1</td>\n",
       "    </tr>\n",
       "    <tr>\n",
       "      <th>4</th>\n",
       "      <td>0</td>\n",
       "      <td>0</td>\n",
       "      <td>0</td>\n",
       "      <td>0</td>\n",
       "      <td>0</td>\n",
       "      <td>0</td>\n",
       "      <td>0</td>\n",
       "      <td>1</td>\n",
       "      <td>0</td>\n",
       "      <td>0</td>\n",
       "      <td>...</td>\n",
       "      <td>1</td>\n",
       "      <td>0</td>\n",
       "      <td>0</td>\n",
       "      <td>0</td>\n",
       "      <td>0</td>\n",
       "      <td>0</td>\n",
       "      <td>1</td>\n",
       "      <td>0</td>\n",
       "      <td>0</td>\n",
       "      <td>1</td>\n",
       "    </tr>\n",
       "  </tbody>\n",
       "</table>\n",
       "<p>5 rows × 49 columns</p>\n",
       "</div>"
      ],
      "text/plain": [
       "   NAME_ALPHA PHI SIGMA  NAME_AMATEUR ATHLETIC UNION OF THE UNITED STATES INC  \\\n",
       "0                     0                                                  0      \n",
       "1                     0                                                  0      \n",
       "2                     0                                                  0      \n",
       "3                     0                                                  0      \n",
       "4                     0                                                  0      \n",
       "\n",
       "   NAME_INTERNATIONAL ASSOCIATION OF LIONS CLUBS  \\\n",
       "0                                              0   \n",
       "1                                              0   \n",
       "2                                              0   \n",
       "3                                              0   \n",
       "4                                              0   \n",
       "\n",
       "   NAME_INTERNATIONAL ASSOCIATION OF SHEET METAL AIR RAIL & TRANSPORTATION  \\\n",
       "0                                                  0                         \n",
       "1                                                  0                         \n",
       "2                                                  0                         \n",
       "3                                                  0                         \n",
       "4                                                  0                         \n",
       "\n",
       "   NAME_LITTLE LEAGUE BASEBALL INC  NAME_MOMS CLUB  \\\n",
       "0                                0               0   \n",
       "1                                0               0   \n",
       "2                                0               0   \n",
       "3                                0               0   \n",
       "4                                0               0   \n",
       "\n",
       "   NAME_MOST WORSHIPFUL STRINGER FREE AND ACCEPTED MASONS  NAME_Other  \\\n",
       "0                                                  0                1   \n",
       "1                                                  0                1   \n",
       "2                                                  0                1   \n",
       "3                                                  0                1   \n",
       "4                                                  0                1   \n",
       "\n",
       "   NAME_PARENT BOOSTER USA INC  NAME_PTA TEXAS CONGRESS  ...  \\\n",
       "0                            0                        0  ...   \n",
       "1                            0                        0  ...   \n",
       "2                            0                        0  ...   \n",
       "3                            0                        0  ...   \n",
       "4                            0                        0  ...   \n",
       "\n",
       "   INCOME_AMT_100000-499999  INCOME_AMT_10M-50M  INCOME_AMT_1M-5M  \\\n",
       "0                         0                   0                 0   \n",
       "1                         0                   0                 0   \n",
       "2                         0                   0                 0   \n",
       "3                         0                   0                 0   \n",
       "4                         1                   0                 0   \n",
       "\n",
       "   INCOME_AMT_25000-99999  INCOME_AMT_50M+  INCOME_AMT_5M-10M  \\\n",
       "0                       0                0                  0   \n",
       "1                       0                0                  0   \n",
       "2                       0                0                  0   \n",
       "3                       0                0                  0   \n",
       "4                       0                0                  0   \n",
       "\n",
       "   SPECIAL_CONSIDERATIONS_N  SPECIAL_CONSIDERATIONS_Y  ASK_AMT_5000  \\\n",
       "0                         1                         0             1   \n",
       "1                         1                         0             0   \n",
       "2                         1                         0             1   \n",
       "3                         1                         0             0   \n",
       "4                         1                         0             0   \n",
       "\n",
       "   ASK_AMT_Other  \n",
       "0              0  \n",
       "1              1  \n",
       "2              0  \n",
       "3              1  \n",
       "4              1  \n",
       "\n",
       "[5 rows x 49 columns]"
      ]
     },
     "execution_count": 20,
     "metadata": {},
     "output_type": "execute_result"
    }
   ],
   "source": [
    "# Create a OneHotEncoder instance\n",
    "# enc = OneHotEncoder(sparse=False)\n",
    "\n",
    "# Fit and transform the OneHotEncoder using the categorical variable list\n",
    "# encode_df = pd.DataFrame(enc.fit_transform(application_df))\n",
    "\n",
    "# Add the encoded variable names to the dataframe\n",
    "# encode_df.columns = enc.get_feature_names(application_cat)\n",
    "y= application_df['IS_SUCCESSFUL']\n",
    "X= application_df.drop(columns= 'IS_SUCCESSFUL')\n",
    "X= pd.get_dummies(X)\n",
    "X.head()"
   ]
  },
  {
   "cell_type": "code",
   "execution_count": 21,
   "metadata": {},
   "outputs": [],
   "source": [
    "# Merge one-hot encoded features and drop the originals\n",
    "# application_df = application_df.merge(encode_df, left_index=True,right_index=True).drop(application_cat, 1)\n",
    "# application_df.head()"
   ]
  },
  {
   "cell_type": "code",
   "execution_count": 22,
   "metadata": {},
   "outputs": [],
   "source": [
    "# Split our preprocessed data into our features and target arrays\n",
    "# y = application_df['IS_SUCCESSFUL'].values\n",
    "# X = application_df.drop(['IS_SUCCESSFUL'], 1).values\n",
    "\n",
    "# Split the preprocessed data into a training and testing dataset\n",
    "X_train, X_test, y_train, y_test = train_test_split(X, y, random_state=99)"
   ]
  },
  {
   "cell_type": "code",
   "execution_count": 23,
   "metadata": {},
   "outputs": [],
   "source": [
    "# Create a StandardScaler instances\n",
    "scaler = StandardScaler()\n",
    "\n",
    "# Fit the StandardScaler\n",
    "X_scaler = scaler.fit(X_train)\n",
    "\n",
    "# Scale the data\n",
    "X_train_scaled = X_scaler.transform(X_train)\n",
    "X_test_scaled = X_scaler.transform(X_test)"
   ]
  },
  {
   "cell_type": "markdown",
   "metadata": {},
   "source": [
    "### Deliverable 2: Compile, Train and Evaluate the Model"
   ]
  },
  {
   "cell_type": "code",
   "execution_count": 41,
   "metadata": {},
   "outputs": [
    {
     "data": {
      "text/plain": [
       "array([-0.09725621, -0.10585383, -0.0889718 , -0.07581722, -0.0891935 ,\n",
       "       -0.07811742, -0.09029411,  0.4676201 , -0.19217057, -0.1047213 ,\n",
       "       -0.1000687 , -0.09309676, -0.15335789, -0.14616589, -0.12130847,\n",
       "        1.09055436, -0.04139641, -1.08340484, -0.03241712, -0.01080066,\n",
       "       -0.01972191,  0.98395453, -0.40621837, -0.46446826, -0.2368319 ,\n",
       "       -0.2415556 , -0.262752  , -0.10566588, -0.06613345, -0.01080066,\n",
       "        0.47033453, -0.44554332, -0.65368417, -0.12213087, -0.03473819,\n",
       "        0.67856529, -1.56792339, -0.14713416, -0.12584875,  3.02953408,\n",
       "       -0.08395099, -0.16982683, -0.35021974, -0.06371784, -0.07633422,\n",
       "        0.02646384, -0.02646384, -1.68674801,  1.68674801])"
      ]
     },
     "execution_count": 41,
     "metadata": {},
     "output_type": "execute_result"
    }
   ],
   "source": [
    "X_train_scaled[0]\n",
    "# print(X_train.shape)"
   ]
  },
  {
   "cell_type": "code",
   "execution_count": 42,
   "metadata": {},
   "outputs": [
    {
     "name": "stdout",
     "output_type": "stream",
     "text": [
      "Model: \"sequential_2\"\n",
      "_________________________________________________________________\n",
      " Layer (type)                Output Shape              Param #   \n",
      "=================================================================\n",
      " dense_6 (Dense)             (None, 80)                4000      \n",
      "                                                                 \n",
      " dense_7 (Dense)             (None, 30)                2430      \n",
      "                                                                 \n",
      " dense_8 (Dense)             (None, 1)                 31        \n",
      "                                                                 \n",
      "=================================================================\n",
      "Total params: 6,461\n",
      "Trainable params: 6,461\n",
      "Non-trainable params: 0\n",
      "_________________________________________________________________\n"
     ]
    }
   ],
   "source": [
    "# Define the model - deep neural net, i.e., the number of input features and hidden nodes for each layer.\n",
    "number_input_features =len(X_train_scaled[0])\n",
    "hidden_nodes_layer1 =  80\n",
    "hidden_nodes_layer2 = 30\n",
    "\n",
    "nn = tf.keras.models.Sequential()\n",
    "\n",
    "# First hidden layer\n",
    "nn.add(\n",
    "    tf.keras.layers.Dense(units=hidden_nodes_layer1, input_dim=number_input_features, activation=\"relu\")\n",
    ")\n",
    "\n",
    "# Second hidden layer\n",
    "nn.add(tf.keras.layers.Dense(units=hidden_nodes_layer2, activation=\"relu\"))\n",
    "\n",
    "# Output layer\n",
    "nn.add(tf.keras.layers.Dense(units=1, activation=\"sigmoid\"))\n",
    "\n",
    "# Check the structure of the model\n",
    "nn.summary()"
   ]
  },
  {
   "cell_type": "code",
   "execution_count": 43,
   "metadata": {},
   "outputs": [],
   "source": [
    "# Import checkpoint dependencies\n",
    "import os\n",
    "from tensorflow.keras.callbacks import ModelCheckpoint\n",
    "os.makedirs(\"checkpoints/\",exist_ok=True)\n",
    "checkpoint_path = \"checkpoints/weights.{epoch:02d}.hdf5\"\n"
   ]
  },
  {
   "cell_type": "code",
   "execution_count": 44,
   "metadata": {},
   "outputs": [],
   "source": [
    "# Compile the model\n",
    "nn.compile(loss=\"binary_crossentropy\", optimizer=\"adam\", metrics=[\"accuracy\"])"
   ]
  },
  {
   "cell_type": "code",
   "execution_count": 45,
   "metadata": {},
   "outputs": [],
   "source": [
    "# Create a callback that saves the model's weights every epoch\n",
    "cp_callback = ModelCheckpoint(\n",
    "    filepath=checkpoint_path, \n",
    "    verbose=1, \n",
    "    save_weights_only=True,\n",
    "    save_freq='epoch')\n"
   ]
  },
  {
   "cell_type": "code",
   "execution_count": 46,
   "metadata": {},
   "outputs": [
    {
     "name": "stdout",
     "output_type": "stream",
     "text": [
      "Epoch 1/100\n",
      "788/804 [============================>.] - ETA: 0s - loss: 0.5436 - accuracy: 0.7212\n",
      "Epoch 1: saving model to checkpoints\\weights.01.hdf5\n",
      "804/804 [==============================] - 2s 2ms/step - loss: 0.5429 - accuracy: 0.7220\n",
      "Epoch 2/100\n",
      "799/804 [============================>.] - ETA: 0s - loss: 0.5264 - accuracy: 0.7336\n",
      "Epoch 2: saving model to checkpoints\\weights.02.hdf5\n",
      "804/804 [==============================] - 2s 2ms/step - loss: 0.5266 - accuracy: 0.7334\n",
      "Epoch 3/100\n",
      "803/804 [============================>.] - ETA: 0s - loss: 0.5230 - accuracy: 0.7349\n",
      "Epoch 3: saving model to checkpoints\\weights.03.hdf5\n",
      "804/804 [==============================] - 2s 2ms/step - loss: 0.5230 - accuracy: 0.7350\n",
      "Epoch 4/100\n",
      "787/804 [============================>.] - ETA: 0s - loss: 0.5224 - accuracy: 0.7377\n",
      "Epoch 4: saving model to checkpoints\\weights.04.hdf5\n",
      "804/804 [==============================] - 2s 2ms/step - loss: 0.5218 - accuracy: 0.7377\n",
      "Epoch 5/100\n",
      "799/804 [============================>.] - ETA: 0s - loss: 0.5202 - accuracy: 0.7378\n",
      "Epoch 5: saving model to checkpoints\\weights.05.hdf5\n",
      "804/804 [==============================] - 2s 2ms/step - loss: 0.5204 - accuracy: 0.7376\n",
      "Epoch 6/100\n",
      "799/804 [============================>.] - ETA: 0s - loss: 0.5189 - accuracy: 0.7390\n",
      "Epoch 6: saving model to checkpoints\\weights.06.hdf5\n",
      "804/804 [==============================] - 2s 2ms/step - loss: 0.5189 - accuracy: 0.7392\n",
      "Epoch 7/100\n",
      "784/804 [============================>.] - ETA: 0s - loss: 0.5191 - accuracy: 0.7402\n",
      "Epoch 7: saving model to checkpoints\\weights.07.hdf5\n",
      "804/804 [==============================] - 2s 2ms/step - loss: 0.5187 - accuracy: 0.7407\n",
      "Epoch 8/100\n",
      "787/804 [============================>.] - ETA: 0s - loss: 0.5178 - accuracy: 0.7404\n",
      "Epoch 8: saving model to checkpoints\\weights.08.hdf5\n",
      "804/804 [==============================] - 2s 2ms/step - loss: 0.5177 - accuracy: 0.7405\n",
      "Epoch 9/100\n",
      "802/804 [============================>.] - ETA: 0s - loss: 0.5174 - accuracy: 0.7403\n",
      "Epoch 9: saving model to checkpoints\\weights.09.hdf5\n",
      "804/804 [==============================] - 2s 3ms/step - loss: 0.5175 - accuracy: 0.7404\n",
      "Epoch 10/100\n",
      "794/804 [============================>.] - ETA: 0s - loss: 0.5167 - accuracy: 0.7407\n",
      "Epoch 10: saving model to checkpoints\\weights.10.hdf5\n",
      "804/804 [==============================] - 2s 2ms/step - loss: 0.5167 - accuracy: 0.7407\n",
      "Epoch 11/100\n",
      "795/804 [============================>.] - ETA: 0s - loss: 0.5165 - accuracy: 0.7414\n",
      "Epoch 11: saving model to checkpoints\\weights.11.hdf5\n",
      "804/804 [==============================] - 2s 2ms/step - loss: 0.5164 - accuracy: 0.7414\n",
      "Epoch 12/100\n",
      "801/804 [============================>.] - ETA: 0s - loss: 0.5165 - accuracy: 0.7410\n",
      "Epoch 12: saving model to checkpoints\\weights.12.hdf5\n",
      "804/804 [==============================] - 2s 2ms/step - loss: 0.5164 - accuracy: 0.7411\n",
      "Epoch 13/100\n",
      "787/804 [============================>.] - ETA: 0s - loss: 0.5152 - accuracy: 0.7405\n",
      "Epoch 13: saving model to checkpoints\\weights.13.hdf5\n",
      "804/804 [==============================] - 2s 2ms/step - loss: 0.5153 - accuracy: 0.7407\n",
      "Epoch 14/100\n",
      "803/804 [============================>.] - ETA: 0s - loss: 0.5154 - accuracy: 0.7422\n",
      "Epoch 14: saving model to checkpoints\\weights.14.hdf5\n",
      "804/804 [==============================] - 2s 3ms/step - loss: 0.5154 - accuracy: 0.7421\n",
      "Epoch 15/100\n",
      "792/804 [============================>.] - ETA: 0s - loss: 0.5151 - accuracy: 0.7425\n",
      "Epoch 15: saving model to checkpoints\\weights.15.hdf5\n",
      "804/804 [==============================] - 2s 2ms/step - loss: 0.5153 - accuracy: 0.7426\n",
      "Epoch 16/100\n",
      "796/804 [============================>.] - ETA: 0s - loss: 0.5146 - accuracy: 0.7413\n",
      "Epoch 16: saving model to checkpoints\\weights.16.hdf5\n",
      "804/804 [==============================] - 2s 2ms/step - loss: 0.5145 - accuracy: 0.7413\n",
      "Epoch 17/100\n",
      "797/804 [============================>.] - ETA: 0s - loss: 0.5146 - accuracy: 0.7423\n",
      "Epoch 17: saving model to checkpoints\\weights.17.hdf5\n",
      "804/804 [==============================] - 2s 2ms/step - loss: 0.5145 - accuracy: 0.7422\n",
      "Epoch 18/100\n",
      "800/804 [============================>.] - ETA: 0s - loss: 0.5149 - accuracy: 0.7427\n",
      "Epoch 18: saving model to checkpoints\\weights.18.hdf5\n",
      "804/804 [==============================] - 2s 2ms/step - loss: 0.5148 - accuracy: 0.7428\n",
      "Epoch 19/100\n",
      "801/804 [============================>.] - ETA: 0s - loss: 0.5146 - accuracy: 0.7424\n",
      "Epoch 19: saving model to checkpoints\\weights.19.hdf5\n",
      "804/804 [==============================] - 2s 3ms/step - loss: 0.5143 - accuracy: 0.7427\n",
      "Epoch 20/100\n",
      "800/804 [============================>.] - ETA: 0s - loss: 0.5140 - accuracy: 0.7425\n",
      "Epoch 20: saving model to checkpoints\\weights.20.hdf5\n",
      "804/804 [==============================] - 2s 2ms/step - loss: 0.5138 - accuracy: 0.7426\n",
      "Epoch 21/100\n",
      "802/804 [============================>.] - ETA: 0s - loss: 0.5138 - accuracy: 0.7434\n",
      "Epoch 21: saving model to checkpoints\\weights.21.hdf5\n",
      "804/804 [==============================] - 2s 3ms/step - loss: 0.5137 - accuracy: 0.7435\n",
      "Epoch 22/100\n",
      "797/804 [============================>.] - ETA: 0s - loss: 0.5133 - accuracy: 0.7442\n",
      "Epoch 22: saving model to checkpoints\\weights.22.hdf5\n",
      "804/804 [==============================] - 2s 3ms/step - loss: 0.5134 - accuracy: 0.7441\n",
      "Epoch 23/100\n",
      "801/804 [============================>.] - ETA: 0s - loss: 0.5132 - accuracy: 0.7439\n",
      "Epoch 23: saving model to checkpoints\\weights.23.hdf5\n",
      "804/804 [==============================] - 2s 2ms/step - loss: 0.5133 - accuracy: 0.7439\n",
      "Epoch 24/100\n",
      "785/804 [============================>.] - ETA: 0s - loss: 0.5130 - accuracy: 0.7443\n",
      "Epoch 24: saving model to checkpoints\\weights.24.hdf5\n",
      "804/804 [==============================] - 2s 2ms/step - loss: 0.5129 - accuracy: 0.7444\n",
      "Epoch 25/100\n",
      "797/804 [============================>.] - ETA: 0s - loss: 0.5129 - accuracy: 0.7431\n",
      "Epoch 25: saving model to checkpoints\\weights.25.hdf5\n",
      "804/804 [==============================] - 2s 2ms/step - loss: 0.5129 - accuracy: 0.7430\n",
      "Epoch 26/100\n",
      "798/804 [============================>.] - ETA: 0s - loss: 0.5124 - accuracy: 0.7429\n",
      "Epoch 26: saving model to checkpoints\\weights.26.hdf5\n",
      "804/804 [==============================] - 2s 3ms/step - loss: 0.5126 - accuracy: 0.7425\n",
      "Epoch 27/100\n",
      "804/804 [==============================] - ETA: 0s - loss: 0.5130 - accuracy: 0.7428\n",
      "Epoch 27: saving model to checkpoints\\weights.27.hdf5\n",
      "804/804 [==============================] - 2s 3ms/step - loss: 0.5130 - accuracy: 0.7428\n",
      "Epoch 28/100\n",
      "799/804 [============================>.] - ETA: 0s - loss: 0.5122 - accuracy: 0.7442\n",
      "Epoch 28: saving model to checkpoints\\weights.28.hdf5\n",
      "804/804 [==============================] - 2s 2ms/step - loss: 0.5123 - accuracy: 0.7441\n",
      "Epoch 29/100\n",
      "803/804 [============================>.] - ETA: 0s - loss: 0.5124 - accuracy: 0.7446\n",
      "Epoch 29: saving model to checkpoints\\weights.29.hdf5\n",
      "804/804 [==============================] - 2s 3ms/step - loss: 0.5123 - accuracy: 0.7447\n",
      "Epoch 30/100\n",
      "790/804 [============================>.] - ETA: 0s - loss: 0.5117 - accuracy: 0.7439\n",
      "Epoch 30: saving model to checkpoints\\weights.30.hdf5\n",
      "804/804 [==============================] - 2s 2ms/step - loss: 0.5118 - accuracy: 0.7441\n",
      "Epoch 31/100\n",
      "793/804 [============================>.] - ETA: 0s - loss: 0.5124 - accuracy: 0.7425\n",
      "Epoch 31: saving model to checkpoints\\weights.31.hdf5\n",
      "804/804 [==============================] - 2s 2ms/step - loss: 0.5119 - accuracy: 0.7431\n",
      "Epoch 32/100\n",
      "802/804 [============================>.] - ETA: 0s - loss: 0.5118 - accuracy: 0.7434\n",
      "Epoch 32: saving model to checkpoints\\weights.32.hdf5\n",
      "804/804 [==============================] - 2s 3ms/step - loss: 0.5119 - accuracy: 0.7435\n",
      "Epoch 33/100\n",
      "787/804 [============================>.] - ETA: 0s - loss: 0.5115 - accuracy: 0.7431\n",
      "Epoch 33: saving model to checkpoints\\weights.33.hdf5\n",
      "804/804 [==============================] - 2s 2ms/step - loss: 0.5118 - accuracy: 0.7425\n",
      "Epoch 34/100\n",
      "791/804 [============================>.] - ETA: 0s - loss: 0.5120 - accuracy: 0.7432\n",
      "Epoch 34: saving model to checkpoints\\weights.34.hdf5\n",
      "804/804 [==============================] - 2s 3ms/step - loss: 0.5116 - accuracy: 0.7435\n",
      "Epoch 35/100\n"
     ]
    },
    {
     "name": "stdout",
     "output_type": "stream",
     "text": [
      "800/804 [============================>.] - ETA: 0s - loss: 0.5112 - accuracy: 0.7435\n",
      "Epoch 35: saving model to checkpoints\\weights.35.hdf5\n",
      "804/804 [==============================] - 2s 2ms/step - loss: 0.5113 - accuracy: 0.7434\n",
      "Epoch 36/100\n",
      "786/804 [============================>.] - ETA: 0s - loss: 0.5113 - accuracy: 0.7448\n",
      "Epoch 36: saving model to checkpoints\\weights.36.hdf5\n",
      "804/804 [==============================] - 2s 2ms/step - loss: 0.5112 - accuracy: 0.7443\n",
      "Epoch 37/100\n",
      "804/804 [==============================] - ETA: 0s - loss: 0.5107 - accuracy: 0.7458\n",
      "Epoch 37: saving model to checkpoints\\weights.37.hdf5\n",
      "804/804 [==============================] - 2s 2ms/step - loss: 0.5107 - accuracy: 0.7458\n",
      "Epoch 38/100\n",
      "788/804 [============================>.] - ETA: 0s - loss: 0.5106 - accuracy: 0.7430\n",
      "Epoch 38: saving model to checkpoints\\weights.38.hdf5\n",
      "804/804 [==============================] - 2s 2ms/step - loss: 0.5112 - accuracy: 0.7426\n",
      "Epoch 39/100\n",
      "798/804 [============================>.] - ETA: 0s - loss: 0.5119 - accuracy: 0.7435\n",
      "Epoch 39: saving model to checkpoints\\weights.39.hdf5\n",
      "804/804 [==============================] - 2s 3ms/step - loss: 0.5116 - accuracy: 0.7437\n",
      "Epoch 40/100\n",
      "787/804 [============================>.] - ETA: 0s - loss: 0.5104 - accuracy: 0.7439\n",
      "Epoch 40: saving model to checkpoints\\weights.40.hdf5\n",
      "804/804 [==============================] - 2s 3ms/step - loss: 0.5106 - accuracy: 0.7439\n",
      "Epoch 41/100\n",
      "782/804 [============================>.] - ETA: 0s - loss: 0.5105 - accuracy: 0.7446\n",
      "Epoch 41: saving model to checkpoints\\weights.41.hdf5\n",
      "804/804 [==============================] - 2s 2ms/step - loss: 0.5102 - accuracy: 0.7449\n",
      "Epoch 42/100\n",
      "800/804 [============================>.] - ETA: 0s - loss: 0.5106 - accuracy: 0.7437\n",
      "Epoch 42: saving model to checkpoints\\weights.42.hdf5\n",
      "804/804 [==============================] - 2s 2ms/step - loss: 0.5107 - accuracy: 0.7435\n",
      "Epoch 43/100\n",
      "803/804 [============================>.] - ETA: 0s - loss: 0.5104 - accuracy: 0.7445\n",
      "Epoch 43: saving model to checkpoints\\weights.43.hdf5\n",
      "804/804 [==============================] - 2s 2ms/step - loss: 0.5102 - accuracy: 0.7446\n",
      "Epoch 44/100\n",
      "798/804 [============================>.] - ETA: 0s - loss: 0.5104 - accuracy: 0.7456\n",
      "Epoch 44: saving model to checkpoints\\weights.44.hdf5\n",
      "804/804 [==============================] - 2s 2ms/step - loss: 0.5102 - accuracy: 0.7456\n",
      "Epoch 45/100\n",
      "800/804 [============================>.] - ETA: 0s - loss: 0.5103 - accuracy: 0.7439\n",
      "Epoch 45: saving model to checkpoints\\weights.45.hdf5\n",
      "804/804 [==============================] - 2s 2ms/step - loss: 0.5100 - accuracy: 0.7442\n",
      "Epoch 46/100\n",
      "785/804 [============================>.] - ETA: 0s - loss: 0.5106 - accuracy: 0.7445\n",
      "Epoch 46: saving model to checkpoints\\weights.46.hdf5\n",
      "804/804 [==============================] - 2s 2ms/step - loss: 0.5102 - accuracy: 0.7446\n",
      "Epoch 47/100\n",
      "789/804 [============================>.] - ETA: 0s - loss: 0.5100 - accuracy: 0.7438\n",
      "Epoch 47: saving model to checkpoints\\weights.47.hdf5\n",
      "804/804 [==============================] - 2s 2ms/step - loss: 0.5099 - accuracy: 0.7436\n",
      "Epoch 48/100\n",
      "803/804 [============================>.] - ETA: 0s - loss: 0.5100 - accuracy: 0.7453\n",
      "Epoch 48: saving model to checkpoints\\weights.48.hdf5\n",
      "804/804 [==============================] - 2s 3ms/step - loss: 0.5100 - accuracy: 0.7453\n",
      "Epoch 49/100\n",
      "790/804 [============================>.] - ETA: 0s - loss: 0.5092 - accuracy: 0.7455\n",
      "Epoch 49: saving model to checkpoints\\weights.49.hdf5\n",
      "804/804 [==============================] - 3s 3ms/step - loss: 0.5095 - accuracy: 0.7450\n",
      "Epoch 50/100\n",
      "801/804 [============================>.] - ETA: 0s - loss: 0.5099 - accuracy: 0.7446\n",
      "Epoch 50: saving model to checkpoints\\weights.50.hdf5\n",
      "804/804 [==============================] - 3s 4ms/step - loss: 0.5097 - accuracy: 0.7449\n",
      "Epoch 51/100\n",
      "787/804 [============================>.] - ETA: 0s - loss: 0.5103 - accuracy: 0.7448\n",
      "Epoch 51: saving model to checkpoints\\weights.51.hdf5\n",
      "804/804 [==============================] - 2s 2ms/step - loss: 0.5098 - accuracy: 0.7454\n",
      "Epoch 52/100\n",
      "790/804 [============================>.] - ETA: 0s - loss: 0.5091 - accuracy: 0.7449\n",
      "Epoch 52: saving model to checkpoints\\weights.52.hdf5\n",
      "804/804 [==============================] - 2s 2ms/step - loss: 0.5094 - accuracy: 0.7451\n",
      "Epoch 53/100\n",
      "802/804 [============================>.] - ETA: 0s - loss: 0.5092 - accuracy: 0.7462\n",
      "Epoch 53: saving model to checkpoints\\weights.53.hdf5\n",
      "804/804 [==============================] - 2s 2ms/step - loss: 0.5092 - accuracy: 0.7462\n",
      "Epoch 54/100\n",
      "793/804 [============================>.] - ETA: 0s - loss: 0.5095 - accuracy: 0.7450\n",
      "Epoch 54: saving model to checkpoints\\weights.54.hdf5\n",
      "804/804 [==============================] - 2s 3ms/step - loss: 0.5093 - accuracy: 0.7451\n",
      "Epoch 55/100\n",
      "787/804 [============================>.] - ETA: 0s - loss: 0.5081 - accuracy: 0.7460\n",
      "Epoch 55: saving model to checkpoints\\weights.55.hdf5\n",
      "804/804 [==============================] - 3s 4ms/step - loss: 0.5090 - accuracy: 0.7450\n",
      "Epoch 56/100\n",
      "786/804 [============================>.] - ETA: 0s - loss: 0.5102 - accuracy: 0.7438\n",
      "Epoch 56: saving model to checkpoints\\weights.56.hdf5\n",
      "804/804 [==============================] - 2s 3ms/step - loss: 0.5089 - accuracy: 0.7448\n",
      "Epoch 57/100\n",
      "791/804 [============================>.] - ETA: 0s - loss: 0.5089 - accuracy: 0.7446\n",
      "Epoch 57: saving model to checkpoints\\weights.57.hdf5\n",
      "804/804 [==============================] - 2s 3ms/step - loss: 0.5091 - accuracy: 0.7444\n",
      "Epoch 58/100\n",
      "798/804 [============================>.] - ETA: 0s - loss: 0.5092 - accuracy: 0.7462\n",
      "Epoch 58: saving model to checkpoints\\weights.58.hdf5\n",
      "804/804 [==============================] - 2s 3ms/step - loss: 0.5090 - accuracy: 0.7462\n",
      "Epoch 59/100\n",
      "796/804 [============================>.] - ETA: 0s - loss: 0.5083 - accuracy: 0.7454\n",
      "Epoch 59: saving model to checkpoints\\weights.59.hdf5\n",
      "804/804 [==============================] - 2s 3ms/step - loss: 0.5089 - accuracy: 0.7448\n",
      "Epoch 60/100\n",
      "793/804 [============================>.] - ETA: 0s - loss: 0.5096 - accuracy: 0.7461\n",
      "Epoch 60: saving model to checkpoints\\weights.60.hdf5\n",
      "804/804 [==============================] - 3s 3ms/step - loss: 0.5093 - accuracy: 0.7461\n",
      "Epoch 61/100\n",
      "794/804 [============================>.] - ETA: 0s - loss: 0.5083 - accuracy: 0.7443\n",
      "Epoch 61: saving model to checkpoints\\weights.61.hdf5\n",
      "804/804 [==============================] - 2s 3ms/step - loss: 0.5084 - accuracy: 0.7442\n",
      "Epoch 62/100\n",
      "785/804 [============================>.] - ETA: 0s - loss: 0.5089 - accuracy: 0.7458\n",
      "Epoch 62: saving model to checkpoints\\weights.62.hdf5\n",
      "804/804 [==============================] - 2s 2ms/step - loss: 0.5083 - accuracy: 0.7464\n",
      "Epoch 63/100\n",
      "783/804 [============================>.] - ETA: 0s - loss: 0.5095 - accuracy: 0.7439\n",
      "Epoch 63: saving model to checkpoints\\weights.63.hdf5\n",
      "804/804 [==============================] - 2s 2ms/step - loss: 0.5088 - accuracy: 0.7442\n",
      "Epoch 64/100\n",
      "800/804 [============================>.] - ETA: 0s - loss: 0.5084 - accuracy: 0.7450\n",
      "Epoch 64: saving model to checkpoints\\weights.64.hdf5\n",
      "804/804 [==============================] - 2s 2ms/step - loss: 0.5085 - accuracy: 0.7449\n",
      "Epoch 65/100\n",
      "788/804 [============================>.] - ETA: 0s - loss: 0.5088 - accuracy: 0.7457\n",
      "Epoch 65: saving model to checkpoints\\weights.65.hdf5\n",
      "804/804 [==============================] - 2s 3ms/step - loss: 0.5084 - accuracy: 0.7461\n",
      "Epoch 66/100\n",
      "795/804 [============================>.] - ETA: 0s - loss: 0.5083 - accuracy: 0.7467\n",
      "Epoch 66: saving model to checkpoints\\weights.66.hdf5\n",
      "804/804 [==============================] - 2s 3ms/step - loss: 0.5080 - accuracy: 0.7470\n",
      "Epoch 67/100\n",
      "795/804 [============================>.] - ETA: 0s - loss: 0.5077 - accuracy: 0.7455\n",
      "Epoch 67: saving model to checkpoints\\weights.67.hdf5\n",
      "804/804 [==============================] - 2s 3ms/step - loss: 0.5077 - accuracy: 0.7453\n",
      "Epoch 68/100\n",
      "794/804 [============================>.] - ETA: 0s - loss: 0.5087 - accuracy: 0.7446\n",
      "Epoch 68: saving model to checkpoints\\weights.68.hdf5\n",
      "804/804 [==============================] - 2s 3ms/step - loss: 0.5083 - accuracy: 0.7450\n",
      "Epoch 69/100\n"
     ]
    },
    {
     "name": "stdout",
     "output_type": "stream",
     "text": [
      "792/804 [============================>.] - ETA: 0s - loss: 0.5080 - accuracy: 0.7445\n",
      "Epoch 69: saving model to checkpoints\\weights.69.hdf5\n",
      "804/804 [==============================] - 2s 3ms/step - loss: 0.5079 - accuracy: 0.7446\n",
      "Epoch 70/100\n",
      "796/804 [============================>.] - ETA: 0s - loss: 0.5081 - accuracy: 0.7455\n",
      "Epoch 70: saving model to checkpoints\\weights.70.hdf5\n",
      "804/804 [==============================] - 2s 2ms/step - loss: 0.5082 - accuracy: 0.7453\n",
      "Epoch 71/100\n",
      "799/804 [============================>.] - ETA: 0s - loss: 0.5077 - accuracy: 0.7460\n",
      "Epoch 71: saving model to checkpoints\\weights.71.hdf5\n",
      "804/804 [==============================] - 2s 2ms/step - loss: 0.5077 - accuracy: 0.7458\n",
      "Epoch 72/100\n",
      "782/804 [============================>.] - ETA: 0s - loss: 0.5071 - accuracy: 0.7470\n",
      "Epoch 72: saving model to checkpoints\\weights.72.hdf5\n",
      "804/804 [==============================] - 2s 2ms/step - loss: 0.5078 - accuracy: 0.7467\n",
      "Epoch 73/100\n",
      "800/804 [============================>.] - ETA: 0s - loss: 0.5078 - accuracy: 0.7444\n",
      "Epoch 73: saving model to checkpoints\\weights.73.hdf5\n",
      "804/804 [==============================] - 2s 2ms/step - loss: 0.5077 - accuracy: 0.7444\n",
      "Epoch 74/100\n",
      "796/804 [============================>.] - ETA: 0s - loss: 0.5072 - accuracy: 0.7471\n",
      "Epoch 74: saving model to checkpoints\\weights.74.hdf5\n",
      "804/804 [==============================] - 2s 2ms/step - loss: 0.5076 - accuracy: 0.7470\n",
      "Epoch 75/100\n",
      "797/804 [============================>.] - ETA: 0s - loss: 0.5077 - accuracy: 0.7456\n",
      "Epoch 75: saving model to checkpoints\\weights.75.hdf5\n",
      "804/804 [==============================] - 2s 2ms/step - loss: 0.5078 - accuracy: 0.7454\n",
      "Epoch 76/100\n",
      "800/804 [============================>.] - ETA: 0s - loss: 0.5073 - accuracy: 0.7457\n",
      "Epoch 76: saving model to checkpoints\\weights.76.hdf5\n",
      "804/804 [==============================] - 3s 4ms/step - loss: 0.5075 - accuracy: 0.7453\n",
      "Epoch 77/100\n",
      "790/804 [============================>.] - ETA: 0s - loss: 0.5079 - accuracy: 0.7457\n",
      "Epoch 77: saving model to checkpoints\\weights.77.hdf5\n",
      "804/804 [==============================] - 2s 3ms/step - loss: 0.5080 - accuracy: 0.7455\n",
      "Epoch 78/100\n",
      "796/804 [============================>.] - ETA: 0s - loss: 0.5075 - accuracy: 0.7461\n",
      "Epoch 78: saving model to checkpoints\\weights.78.hdf5\n",
      "804/804 [==============================] - 2s 2ms/step - loss: 0.5075 - accuracy: 0.7462\n",
      "Epoch 79/100\n",
      "786/804 [============================>.] - ETA: 0s - loss: 0.5072 - accuracy: 0.7467\n",
      "Epoch 79: saving model to checkpoints\\weights.79.hdf5\n",
      "804/804 [==============================] - 2s 2ms/step - loss: 0.5074 - accuracy: 0.7462\n",
      "Epoch 80/100\n",
      "803/804 [============================>.] - ETA: 0s - loss: 0.5074 - accuracy: 0.7456\n",
      "Epoch 80: saving model to checkpoints\\weights.80.hdf5\n",
      "804/804 [==============================] - 2s 2ms/step - loss: 0.5074 - accuracy: 0.7456\n",
      "Epoch 81/100\n",
      "797/804 [============================>.] - ETA: 0s - loss: 0.5070 - accuracy: 0.7460\n",
      "Epoch 81: saving model to checkpoints\\weights.81.hdf5\n",
      "804/804 [==============================] - 2s 2ms/step - loss: 0.5073 - accuracy: 0.7458\n",
      "Epoch 82/100\n",
      "789/804 [============================>.] - ETA: 0s - loss: 0.5066 - accuracy: 0.7459\n",
      "Epoch 82: saving model to checkpoints\\weights.82.hdf5\n",
      "804/804 [==============================] - 2s 2ms/step - loss: 0.5073 - accuracy: 0.7453\n",
      "Epoch 83/100\n",
      "795/804 [============================>.] - ETA: 0s - loss: 0.5081 - accuracy: 0.7451\n",
      "Epoch 83: saving model to checkpoints\\weights.83.hdf5\n",
      "804/804 [==============================] - 2s 2ms/step - loss: 0.5077 - accuracy: 0.7455\n",
      "Epoch 84/100\n",
      "797/804 [============================>.] - ETA: 0s - loss: 0.5072 - accuracy: 0.7464\n",
      "Epoch 84: saving model to checkpoints\\weights.84.hdf5\n",
      "804/804 [==============================] - 2s 2ms/step - loss: 0.5073 - accuracy: 0.7464\n",
      "Epoch 85/100\n",
      "793/804 [============================>.] - ETA: 0s - loss: 0.5069 - accuracy: 0.7455\n",
      "Epoch 85: saving model to checkpoints\\weights.85.hdf5\n",
      "804/804 [==============================] - 2s 2ms/step - loss: 0.5071 - accuracy: 0.7458\n",
      "Epoch 86/100\n",
      "795/804 [============================>.] - ETA: 0s - loss: 0.5066 - accuracy: 0.7465\n",
      "Epoch 86: saving model to checkpoints\\weights.86.hdf5\n",
      "804/804 [==============================] - 2s 2ms/step - loss: 0.5068 - accuracy: 0.7464\n",
      "Epoch 87/100\n",
      "798/804 [============================>.] - ETA: 0s - loss: 0.5070 - accuracy: 0.7467\n",
      "Epoch 87: saving model to checkpoints\\weights.87.hdf5\n",
      "804/804 [==============================] - 3s 3ms/step - loss: 0.5071 - accuracy: 0.7468\n",
      "Epoch 88/100\n",
      "794/804 [============================>.] - ETA: 0s - loss: 0.5065 - accuracy: 0.7462\n",
      "Epoch 88: saving model to checkpoints\\weights.88.hdf5\n",
      "804/804 [==============================] - 2s 3ms/step - loss: 0.5071 - accuracy: 0.7460\n",
      "Epoch 89/100\n",
      "804/804 [==============================] - ETA: 0s - loss: 0.5068 - accuracy: 0.7454\n",
      "Epoch 89: saving model to checkpoints\\weights.89.hdf5\n",
      "804/804 [==============================] - 2s 3ms/step - loss: 0.5068 - accuracy: 0.7454\n",
      "Epoch 90/100\n",
      "799/804 [============================>.] - ETA: 0s - loss: 0.5076 - accuracy: 0.7450\n",
      "Epoch 90: saving model to checkpoints\\weights.90.hdf5\n",
      "804/804 [==============================] - 2s 3ms/step - loss: 0.5075 - accuracy: 0.7452\n",
      "Epoch 91/100\n",
      "791/804 [============================>.] - ETA: 0s - loss: 0.5070 - accuracy: 0.7456\n",
      "Epoch 91: saving model to checkpoints\\weights.91.hdf5\n",
      "804/804 [==============================] - 2s 3ms/step - loss: 0.5067 - accuracy: 0.7457\n",
      "Epoch 92/100\n",
      "791/804 [============================>.] - ETA: 0s - loss: 0.5072 - accuracy: 0.7462\n",
      "Epoch 92: saving model to checkpoints\\weights.92.hdf5\n",
      "804/804 [==============================] - 2s 3ms/step - loss: 0.5067 - accuracy: 0.7465\n",
      "Epoch 93/100\n",
      "788/804 [============================>.] - ETA: 0s - loss: 0.5069 - accuracy: 0.7464\n",
      "Epoch 93: saving model to checkpoints\\weights.93.hdf5\n",
      "804/804 [==============================] - 2s 3ms/step - loss: 0.5070 - accuracy: 0.7460\n",
      "Epoch 94/100\n",
      "787/804 [============================>.] - ETA: 0s - loss: 0.5057 - accuracy: 0.7468\n",
      "Epoch 94: saving model to checkpoints\\weights.94.hdf5\n",
      "804/804 [==============================] - 3s 4ms/step - loss: 0.5067 - accuracy: 0.7462\n",
      "Epoch 95/100\n",
      "781/804 [============================>.] - ETA: 0s - loss: 0.5061 - accuracy: 0.7467\n",
      "Epoch 95: saving model to checkpoints\\weights.95.hdf5\n",
      "804/804 [==============================] - 3s 3ms/step - loss: 0.5068 - accuracy: 0.7463\n",
      "Epoch 96/100\n",
      "797/804 [============================>.] - ETA: 0s - loss: 0.5060 - accuracy: 0.7460\n",
      "Epoch 96: saving model to checkpoints\\weights.96.hdf5\n",
      "804/804 [==============================] - 2s 3ms/step - loss: 0.5066 - accuracy: 0.7456\n",
      "Epoch 97/100\n",
      "801/804 [============================>.] - ETA: 0s - loss: 0.5065 - accuracy: 0.7450\n",
      "Epoch 97: saving model to checkpoints\\weights.97.hdf5\n",
      "804/804 [==============================] - 3s 3ms/step - loss: 0.5065 - accuracy: 0.7449\n",
      "Epoch 98/100\n",
      "790/804 [============================>.] - ETA: 0s - loss: 0.5069 - accuracy: 0.7461\n",
      "Epoch 98: saving model to checkpoints\\weights.98.hdf5\n",
      "804/804 [==============================] - 2s 3ms/step - loss: 0.5069 - accuracy: 0.7459\n",
      "Epoch 99/100\n",
      "786/804 [============================>.] - ETA: 0s - loss: 0.5068 - accuracy: 0.7451\n",
      "Epoch 99: saving model to checkpoints\\weights.99.hdf5\n",
      "804/804 [==============================] - 2s 3ms/step - loss: 0.5066 - accuracy: 0.7457\n",
      "Epoch 100/100\n",
      "803/804 [============================>.] - ETA: 0s - loss: 0.5064 - accuracy: 0.7459\n",
      "Epoch 100: saving model to checkpoints\\weights.100.hdf5\n",
      "804/804 [==============================] - 2s 3ms/step - loss: 0.5064 - accuracy: 0.7460\n"
     ]
    }
   ],
   "source": [
    "# Train the model\n",
    "fit_model = nn.fit(X_train_scaled, y_train, epochs=100, callbacks=[cp_callback])"
   ]
  },
  {
   "cell_type": "code",
   "execution_count": 47,
   "metadata": {},
   "outputs": [
    {
     "name": "stdout",
     "output_type": "stream",
     "text": [
      "268/268 - 0s - loss: 0.5327 - accuracy: 0.7337 - 416ms/epoch - 2ms/step\n",
      "Loss: 0.5326544046401978, Accuracy: 0.733729898929596\n"
     ]
    }
   ],
   "source": [
    "# Evaluate the model using the test data\n",
    "model_loss, model_accuracy = nn.evaluate(X_test_scaled,y_test,verbose=2)\n",
    "print(f\"Loss: {model_loss}, Accuracy: {model_accuracy}\")"
   ]
  },
  {
   "cell_type": "code",
   "execution_count": 48,
   "metadata": {},
   "outputs": [],
   "source": [
    "# Export our model to HDF5 file\n",
    "nn.save(\"AlphabetSoupCharity.h5\")"
   ]
  },
  {
   "cell_type": "code",
   "execution_count": null,
   "metadata": {},
   "outputs": [],
   "source": []
  }
 ],
 "metadata": {
  "kernelspec": {
   "display_name": "PythonData",
   "language": "python",
   "name": "pythondata"
  },
  "language_info": {
   "codemirror_mode": {
    "name": "ipython",
    "version": 3
   },
   "file_extension": ".py",
   "mimetype": "text/x-python",
   "name": "python",
   "nbconvert_exporter": "python",
   "pygments_lexer": "ipython3",
   "version": "3.7.11"
  }
 },
 "nbformat": 4,
 "nbformat_minor": 2
}
